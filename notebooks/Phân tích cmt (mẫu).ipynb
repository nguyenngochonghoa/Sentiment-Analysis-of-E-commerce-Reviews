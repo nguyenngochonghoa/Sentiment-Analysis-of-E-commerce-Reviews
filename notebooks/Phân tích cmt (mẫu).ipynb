{
 "cells": [
  {
   "cell_type": "code",
   "execution_count": null,
   "id": "6178282b",
   "metadata": {},
   "outputs": [],
   "source": [
    "from selenium import webdriver\n",
    "from selenium.webdriver.common.keys  import Keys\n",
    "from selenium.webdriver.chrome.service  import Service\n",
    "from webdriver_manager.chrome  import ChromeDriverManager \n",
    "from bs4 import BeautifulSoup\n",
    "#Mở website và lấy nội dung bằng selenium\n",
    "driver = webdriver.Chrome(service=Service(ChromeDriverManager().install()))\n",
    "link = \"https://fptshop.com.vn/dien-thoai/samsung-galaxy-a14\";\n",
    "driver.get(link)\n",
    "content = driver.page_source # Lấy nội dung của website"
   ]
  },
  {
   "cell_type": "code",
   "execution_count": 2,
   "id": "655d70ec",
   "metadata": {
    "scrolled": false
   },
   "outputs": [
    {
     "ename": "NameError",
     "evalue": "name 'BeautifulSoup' is not defined",
     "output_type": "error",
     "traceback": [
      "\u001b[1;31m---------------------------------------------------------------------------\u001b[0m",
      "\u001b[1;31mNameError\u001b[0m                                 Traceback (most recent call last)",
      "Cell \u001b[1;32mIn[2], line 2\u001b[0m\n\u001b[0;32m      1\u001b[0m \u001b[38;5;66;03m#Sử dụng BeautifulSoup để xử lý\u001b[39;00m\n\u001b[1;32m----> 2\u001b[0m soup \u001b[38;5;241m=\u001b[39m BeautifulSoup(content,\u001b[38;5;124m'\u001b[39m\u001b[38;5;124mhtml.parser\u001b[39m\u001b[38;5;124m'\u001b[39m) \n\u001b[0;32m      3\u001b[0m \u001b[38;5;28mprint\u001b[39m(soup\u001b[38;5;241m.\u001b[39mprettify())\n",
      "\u001b[1;31mNameError\u001b[0m: name 'BeautifulSoup' is not defined"
     ]
    }
   ],
   "source": [
    "#Sử dụng BeautifulSoup để xử lý\n",
    "soup = BeautifulSoup(content,'html.parser') \n",
    "print(soup.prettify())"
   ]
  },
  {
   "cell_type": "code",
   "execution_count": 3,
   "id": "1355c9fd",
   "metadata": {},
   "outputs": [
    {
     "name": "stdout",
     "output_type": "stream",
     "text": [
      "Theo mình đang sử dụng thì may lướt Wep khá mượt chụp ảnh thì rõ nét phóng to ko bị lòa chữ Đây là cá nhân mình đánh giá ở thời điểm hiện tại đang sử dụng nha\n"
     ]
    }
   ],
   "source": [
    "comment = soup.find('div',attrs={'class':'avatar-para'}).find('div',attrs={'class':'text'}).text\n",
    "print(comment)"
   ]
  },
  {
   "cell_type": "code",
   "execution_count": 4,
   "id": "5218a1fb",
   "metadata": {},
   "outputs": [
    {
     "name": "stdout",
     "output_type": "stream",
     "text": [
      "5\n"
     ]
    }
   ],
   "source": [
    "X = soup.find('div',attrs={'class':'user-wrapper'})\n",
    "div = X.findAll('div',attrs={'class':'avatar-para'})\n",
    "print(len(div))\n",
    "\n"
   ]
  },
  {
   "cell_type": "code",
   "execution_count": 5,
   "id": "6ac2f7da",
   "metadata": {},
   "outputs": [
    {
     "name": "stdout",
     "output_type": "stream",
     "text": [
      "Theo mình đang sử dụng thì may lướt Wep khá mượt chụp ảnh thì rõ nét phóng to ko bị lòa chữ Đây là cá nhân mình đánh giá ở thời điểm hiện tại đang sử dụng nha\n",
      "Máy tốt, pin trâu, chống nước, nhiều tính năng. Bị cái chuyển từ huawei qua nên chưa quen giao diện.\n",
      "Màu vỏ đẹp, sang. Cầm chắc tay, vừa vặn. Tính năng dễ sử dụng, màn hình đẹp. Sẽ giới thiệu cho bạn bè và người thân có nhu cầu.\n",
      "Diện thoại dùng tốt....(cô đang sử dụng nhưng chưa thao tác hết các công dụng). Máy 0k 0k\n",
      "vào mạng cũng nhanh, ổn định nhé\n"
     ]
    }
   ],
   "source": [
    "for d in div:\n",
    "    comment = d.find('div',attrs={'class':'text'}).text.strip()\n",
    "    print(comment)"
   ]
  },
  {
   "cell_type": "code",
   "execution_count": 6,
   "id": "4d51365c",
   "metadata": {},
   "outputs": [
    {
     "name": "stdout",
     "output_type": "stream",
     "text": [
      "Hoàng Đức Duy\n",
      "Theo mình đang sử dụng thì may lướt Wep khá mượt chụp ảnh thì rõ nét phóng to ko bị lòa chữ Đây là cá nhân mình đánh giá ở thời điểm hiện tại đang sử dụng nha\n",
      "Hoàng Duy\n",
      "Máy tốt, pin trâu, chống nước, nhiều tính năng. Bị cái chuyển từ huawei qua nên chưa quen giao diện.\n",
      "Đình Thi\n",
      "Màu vỏ đẹp, sang. Cầm chắc tay, vừa vặn. Tính năng dễ sử dụng, màn hình đẹp. Sẽ giới thiệu cho bạn bè và người thân có nhu cầu.\n",
      "Vân Anh\n",
      "Diện thoại dùng tốt....(cô đang sử dụng nhưng chưa thao tác hết các công dụng). Máy 0k 0k\n",
      "Tuấn\n",
      "vào mạng cũng nhanh, ổn định nhé\n"
     ]
    }
   ],
   "source": [
    "from selenium import webdriver\n",
    "from selenium.webdriver.common.keys  import Keys\n",
    "from selenium.webdriver.chrome.service  import Service\n",
    "from webdriver_manager.chrome  import ChromeDriverManager \n",
    "from bs4 import BeautifulSoup\n",
    "#Mở website và lấy nội dung bằng selenium\n",
    "driver = webdriver.Chrome(service=Service(ChromeDriverManager().install()))\n",
    "link = \"https://fptshop.com.vn\";\n",
    "driver.get(link)\n",
    "content = driver.page_source # Lấy nội dung của website\n",
    "\n",
    "soup = BeautifulSoup(content,'html.parser') \n",
    "\n",
    "X = soup.find('div',attrs={'class':'user-wrapper'})\n",
    "div = X.findAll('div',attrs={'class':'avatar-info'})\n",
    "for d in div:\n",
    "    name = d.find('div',attrs={'class':'avatar-name'}).find('div').text.strip()\n",
    "    comment = d.find('div',attrs={'class':'avatar-para'}).text.strip()\n",
    "    print(name)\n",
    "    print(comment)\n",
    "\n"
   ]
  },
  {
   "cell_type": "code",
   "execution_count": 17,
   "id": "5c5813cd",
   "metadata": {},
   "outputs": [],
   "source": [
    "from selenium import webdriver\n",
    "from selenium.webdriver.common.keys  import Keys\n",
    "from selenium.webdriver.chrome.service  import Service\n",
    "from webdriver_manager.chrome  import ChromeDriverManager \n",
    "from bs4 import BeautifulSoup\n",
    "#Mở website và lấy nội dung bằng selenium\n",
    "driver = webdriver.Chrome(service=Service(ChromeDriverManager().install()))\n"
   ]
  },
  {
   "cell_type": "code",
   "execution_count": 14,
   "id": "b81c4526",
   "metadata": {},
   "outputs": [],
   "source": [
    "link = \"https://fptshop.com.vn\";\n",
    "driver.get(link)"
   ]
  },
  {
   "cell_type": "code",
   "execution_count": 13,
   "id": "6e2a4344",
   "metadata": {},
   "outputs": [],
   "source": [
    "from selenium.webdriver.common.by import By\n",
    "from selenium.webdriver.common.keys import Keys\n",
    "search_input = driver.find_element(By.XPATH,\"//input[@id='key']\") #luôn luôn chọn id để dựa vào đó để tìm thông tin trong thẻ\n",
    "search_input.click()\n",
    "search_input.clear()\n",
    "search_input.send_keys('laptop dell',Keys.ENTER)"
   ]
  },
  {
   "cell_type": "code",
   "execution_count": 20,
   "id": "18b617d5",
   "metadata": {},
   "outputs": [],
   "source": [
    "from selenium import webdriver\n",
    "from selenium.webdriver.common.keys  import Keys\n",
    "from selenium.webdriver.chrome.service  import Service\n",
    "from webdriver_manager.chrome  import ChromeDriverManager \n",
    "from bs4 import BeautifulSoup\n",
    "#Mở website và lấy nội dung bằng selenium\n",
    "driver = webdriver.Chrome(service=Service(ChromeDriverManager().install()))\n",
    "link = \"https://vnexpress.net\";\n",
    "driver.get(link)\n",
    "import time\n",
    "for j in range(15):\n",
    "    driver.execute_script(\"window.scrollTo(0,\"+str(j*1000)+\")\")\n",
    "    time.sleep(2)\n",
    "    \n"
   ]
  },
  {
   "cell_type": "code",
   "execution_count": null,
   "id": "2534cb39",
   "metadata": {},
   "outputs": [],
   "source": []
  }
 ],
 "metadata": {
  "kernelspec": {
   "display_name": "Python 3 (ipykernel)",
   "language": "python",
   "name": "python3"
  },
  "language_info": {
   "codemirror_mode": {
    "name": "ipython",
    "version": 3
   },
   "file_extension": ".py",
   "mimetype": "text/x-python",
   "name": "python",
   "nbconvert_exporter": "python",
   "pygments_lexer": "ipython3",
   "version": "3.11.5"
  }
 },
 "nbformat": 4,
 "nbformat_minor": 5
}
