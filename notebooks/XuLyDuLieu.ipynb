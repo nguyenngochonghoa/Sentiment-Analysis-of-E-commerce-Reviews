{
 "cells": [
  {
   "cell_type": "code",
   "execution_count": 1,
   "id": "5167347a",
   "metadata": {},
   "outputs": [
    {
     "name": "stdout",
     "output_type": "stream",
     "text": [
      "   request_id  rating                                            comment\n",
      "0           1       1                         Sản phẩm bị vỡ k dùng được\n",
      "1           2       1  Còn đầu gắn phần duoi của ong hút đau sao ko c...\n",
      "2           3       1  K có hướng dẫn lắp vòi , vòi nứt treo đầu dê b...\n",
      "3           4       1                       quá tệ :))))))))))))))))))))\n",
      "4           5       1                 hàng chất lượng xấu quá nắp bị bẹp\n",
      "5           6       2                          Dễ vỡ………………………………………………….\n",
      "6           7       2                        giao hàng bị bể mất 1 cái ?\n",
      "7           8       2  Bình đục ngàu, giống thuỷ tinh tái chế, giờ ko...\n",
      "8           9       2                        Bình bị méo không được tròn\n",
      "9          10       1  Chất lượng thuỷ tinh kém, sản phẩm thuỷ tinh t...\n"
     ]
    }
   ],
   "source": [
    "import pandas as pd\n",
    "\n",
    "data = pd.read_excel('list_comment_negative.xlsx',usecols='A:C')\n",
    "\n",
    "data = data.dropna()\n",
    "data.reset_index(drop=True, inplace=True)\n",
    "print(data.head(10))"
   ]
  },
  {
   "cell_type": "code",
   "execution_count": 3,
   "id": "5ee5f2a7",
   "metadata": {},
   "outputs": [
    {
     "name": "stdout",
     "output_type": "stream",
     "text": [
      "Ok.nấu cơm 🍚 rất ngon<br>\n",
      "ok.nấu cơm  rất ngon\n"
     ]
    }
   ],
   "source": [
    "import re\n",
    "def remove_emojis(data):\n",
    "    emoj = re.compile(\"[\"\n",
    "        u\"\\U0001F600-\\U0001F64F\"  # emoticons\n",
    "        u\"\\U0001F300-\\U0001F5FF\"  # symbols & pictographs\n",
    "        u\"\\U0001F680-\\U0001F6FF\"  # transport & map symbols\n",
    "        u\"\\U0001F1E0-\\U0001F1FF\"  # flags (iOS)\n",
    "        u\"\\U00002500-\\U00002BEF\"  # chinese char\n",
    "        u\"\\U00002702-\\U000027B0\"\n",
    "        u\"\\U00002702-\\U000027B0\"\n",
    "        u\"\\U000024C2-\\U0001F251\"\n",
    "        u\"\\U0001f926-\\U0001f937\"\n",
    "        u\"\\U00010000-\\U0010ffff\"\n",
    "        u\"\\u2640-\\u2642\" \n",
    "        u\"\\u2600-\\u2B55\"\n",
    "        u\"\\u200d\"\n",
    "        u\"\\u23cf\"\n",
    "        u\"\\u23e9\"\n",
    "        u\"\\u231a\"\n",
    "        u\"\\ufe0f\"  # dingbats\n",
    "        u\"\\u3030\"\n",
    "                      \"]+\", re.UNICODE)\n",
    "    return re.sub(emoj, '', data)\n",
    "\n",
    "def remove_html(raw_html):\n",
    "    CLEANR = re.compile('<.*?>') \n",
    "    cleantext = re.sub(CLEANR, '', raw_html)\n",
    "    return cleantext\n",
    "\n",
    "#Ví dụ:\n",
    "text = 'Ok.nấu cơm 🍚 rất ngon<br>'\n",
    "print(text) # with emoji\n",
    "print(remove_html(remove_emojis(text).lower()))"
   ]
  },
  {
   "cell_type": "code",
   "execution_count": null,
   "id": "a86e0aab",
   "metadata": {},
   "outputs": [
    {
     "name": "stderr",
     "output_type": "stream",
     "text": [
      "C:\\Users\\LAPTOP\\anaconda3\\envs\\kien2\\Lib\\site-packages\\tqdm\\auto.py:21: TqdmWarning: IProgress not found. Please update jupyter and ipywidgets. See https://ipywidgets.readthedocs.io/en/stable/user_install.html\n",
      "  from .autonotebook import tqdm as notebook_tqdm\n"
     ]
    },
    {
     "name": "stdout",
     "output_type": "stream",
     "text": [
      "nướng thịt không ngon gì cả, bùn\n",
      "nướng thịt không ngon gì cả , bùn\n",
      "['nướng', 'thịt', 'không', 'ngon', 'gì', 'cả', ',', 'bùn']\n"
     ]
    }
   ],
   "source": [
    "from underthesea import word_tokenize\n",
    "from underthesea import sent_tokenize\n",
    "\n",
    "\n",
    "text = data['comment'][1].strip()\n",
    "sentence = sent_tokenize(text) #Tách câu\n",
    "print(text)\n",
    "\n",
    "for i, s in enumerate(sentence): #Duyệt lần lượt từng câu bên trong và tách từ\n",
    "    output = word_tokenize(sentence[i],format=\"text\")\n",
    "    print(output)\n",
    "    list_word = output.split(' ')\n",
    "    print(list_word)"
   ]
  },
  {
   "cell_type": "code",
   "execution_count": null,
   "id": "230d8750",
   "metadata": {},
   "outputs": [],
   "source": [
    "#xử lý toàn bộ dữ liệu\n",
    "from underthesea import word_tokenize\n",
    "data['comment'] = data['comment'].apply(lambda x: remove_html(remove_emojis(x)))\n",
    "\n",
    "data['comment'] = data['comment'].apply(lambda x: word_tokenize(x, format=\"text\"))\n"
   ]
  }
 ],
 "metadata": {
  "kernelspec": {
   "display_name": "Python 3 (ipykernel)",
   "language": "python",
   "name": "python3"
  },
  "language_info": {
   "codemirror_mode": {
    "name": "ipython",
    "version": 3
   },
   "file_extension": ".py",
   "mimetype": "text/x-python",
   "name": "python",
   "nbconvert_exporter": "python",
   "pygments_lexer": "ipython3",
   "version": "3.12.7"
  }
 },
 "nbformat": 4,
 "nbformat_minor": 5
}
